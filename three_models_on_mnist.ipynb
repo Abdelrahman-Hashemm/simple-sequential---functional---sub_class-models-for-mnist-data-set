{
  "nbformat": 4,
  "nbformat_minor": 0,
  "metadata": {
    "colab": {
      "provenance": []
    },
    "kernelspec": {
      "name": "python3",
      "display_name": "Python 3"
    },
    "language_info": {
      "name": "python"
    }
  },
  "cells": [
    {
      "cell_type": "markdown",
      "source": [
        "#first imort needed **liberaries**"
      ],
      "metadata": {
        "id": "QeovRQwwU-cS"
      }
    },
    {
      "cell_type": "code",
      "execution_count": null,
      "metadata": {
        "id": "KRWSb5jQU32l"
      },
      "outputs": [],
      "source": [
        "from sklearn.model_selection import train_test_split\n",
        "from sklearn.preprocessing import LabelBinarizer\n",
        "from tensorflow.python.keras import Input\n",
        "from tensorflow.keras.datasets import mnist\n",
        "from tensorflow.python.keras.layers import Dense\n",
        "from tensorflow.python.keras.models import Model\n",
        "from tensorflow.python.keras.models import Sequential"
      ]
    },
    {
      "cell_type": "markdown",
      "source": [
        "#Create three models \n",
        "**1- Sequential**"
      ],
      "metadata": {
        "id": "9Lk4zYJ2VFtJ"
      }
    },
    {
      "cell_type": "code",
      "source": [
        "#the numbers in each layer is the number of neurons or units contained in this layer\n",
        "layers = [Dense(256, input_shape = (28 * 28 * 1,), activation = 'sigmoid'),\n",
        "          Dense(128, activation = 'sigmoid'),\n",
        "          Dense(10, activation = 'softmax')]      #number 10 because we have 10 classes 0 ----> 9  if it was binary classification it would be 1\n",
        "                                                  # 1 because its only two classes if know one you know the other one ;)\n",
        "squential_model_list = Sequential(layers)"
      ],
      "metadata": {
        "id": "v3vO7J7pVCsL"
      },
      "execution_count": null,
      "outputs": []
    },
    {
      "cell_type": "code",
      "source": [
        "#creating the sequential model using add() method\n",
        "sequential_model = Sequential()\n",
        "\n",
        "sequential_model.add(Dense(256, input_shape = (28 * 28 * 1,), activation = 'sigmoid'))\n",
        "sequential_model.add(Dense(128, activation = 'sigmoid'))\n",
        "sequential_model.add(Dense(10, activation = 'softmax'))"
      ],
      "metadata": {
        "id": "gHFA61q4VIM4"
      },
      "execution_count": null,
      "outputs": []
    },
    {
      "cell_type": "markdown",
      "source": [
        "**2- Functional**"
      ],
      "metadata": {
        "id": "cXt_2hk6VMza"
      }
    },
    {
      "cell_type": "code",
      "source": [
        "# input used to identify the shape of input\n",
        "input_layer = Input(shape = (28 * 28 * 1,))\n",
        "dense_1 = Dense(256, activation = 'sigmoid')(input_layer)\n",
        "dense_2 = Dense(128, activation = 'sigmoid')(dense_1)\n",
        "predictions = Dense(10, activation = 'softmax')(dense_2)\n",
        "\n",
        "functional_model = Model(inputs = input_layer, outputs = predictions)"
      ],
      "metadata": {
        "id": "MSv26fakVPlB"
      },
      "execution_count": null,
      "outputs": []
    },
    {
      "cell_type": "markdown",
      "source": [
        "**3-Sub_Class**"
      ],
      "metadata": {
        "id": "56mdYDQxVSVh"
      }
    },
    {
      "cell_type": "code",
      "source": [
        "class ClassModel (Model):\n",
        "    def __init__(self):\n",
        "      super(ClassModel, self).__init__()\n",
        "      self.dense_1 = Dense(256, activation = 'sigmoid')\n",
        "      self.dense_2 = Dense(128, activation = 'sigmoid')\n",
        "      self.predictions = Dense(10, activation = 'softmax')\n",
        "\n",
        "    def call(self, inputs, **kwargs):\n",
        "       x = self.dense_1(inputs)\n",
        "       x = self.dense_2(x)\n",
        "       return self.predictions(x)\n",
        "\n",
        "class_model = ClassModel()"
      ],
      "metadata": {
        "id": "0-3XaorTVRwr"
      },
      "execution_count": null,
      "outputs": []
    },
    {
      "cell_type": "markdown",
      "source": [
        "# **Now we prepare the data to be trained in all three models we defined **"
      ],
      "metadata": {
        "id": "zDBrrID7VbBC"
      }
    },
    {
      "cell_type": "code",
      "source": [
        "#now we going to load the data in two tubles train 60000 & test 10000\n",
        "(x_train, y_train), (x_test, y_test) = mnist.load_data()\n",
        "\n",
        "#note that we must reshape the images into vector format \n",
        "#because this is the format expected by fully connected network\n",
        "#so we to make normalization to reduce the values of intensity of images\n",
        "\n",
        "x_train = x_train.reshape((x_train.shape[0], 28 * 28 * 1))\n",
        "x_test = x_test.reshape((x_test.shape[0], 28 * 28 * 1))\n",
        "\n",
        "x_train = x_train.astype('float32') / 255\n",
        "x_test = x_test.astype('float32') / 255\n",
        "\n",
        "print('x_train : ',x_train.shape)\n",
        "print('y_train : ',y_train.shape)\n",
        "print('x_test : ',x_test.shape)\n",
        "print('y_test : ',y_test.shape)\n"
      ],
      "metadata": {
        "colab": {
          "base_uri": "https://localhost:8080/"
        },
        "id": "lENEvd93VW9I",
        "outputId": "f7585ad5-d0d9-4015-f0b9-8f7dce915737"
      },
      "execution_count": null,
      "outputs": [
        {
          "output_type": "stream",
          "name": "stdout",
          "text": [
            "Downloading data from https://storage.googleapis.com/tensorflow/tf-keras-datasets/mnist.npz\n",
            "11490434/11490434 [==============================] - 1s 0us/step\n",
            "x_train :  (60000, 784)\n",
            "y_train :  (60000,)\n",
            "x_test :  (10000, 784)\n",
            "y_test :  (10000,)\n"
          ]
        }
      ]
    },
    {
      "cell_type": "code",
      "source": [
        "#One-hot encode the labels to break any undesired ordering bias:\n",
        "\n",
        "label_binarizer = LabelBinarizer()\n",
        "\n",
        "y_train = label_binarizer.fit_transform(y_train)\n",
        "y_test = label_binarizer.fit_transform(y_test)\n",
        "\n",
        "y_train.shape"
      ],
      "metadata": {
        "id": "nE78Zr7dVgby",
        "colab": {
          "base_uri": "https://localhost:8080/"
        },
        "outputId": "f6d3e3c8-e12b-4df2-bba5-907b5b52fd9f"
      },
      "execution_count": null,
      "outputs": [
        {
          "output_type": "execute_result",
          "data": {
            "text/plain": [
              "(60000, 10)"
            ]
          },
          "metadata": {},
          "execution_count": 7
        }
      ]
    },
    {
      "cell_type": "markdown",
      "source": [
        "**take 20% of data for validation  #fine tunning**"
      ],
      "metadata": {
        "id": "IU593HqtViux"
      }
    },
    {
      "cell_type": "code",
      "source": [
        "x_train, x_valid, y_train, y_valid = train_test_split(x_train, y_train, train_size = 0.8)"
      ],
      "metadata": {
        "id": "PaE1A5n1ViEQ"
      },
      "execution_count": null,
      "outputs": []
    },
    {
      "cell_type": "markdown",
      "source": [
        "# **Compile the model for 50 epochs and evaluate them on the test set**"
      ],
      "metadata": {
        "id": "MjFvfG_FVpgi"
      }
    },
    {
      "cell_type": "code",
      "source": [
        "models = {\n",
        "    'sequential_model': sequential_model,\n",
        "    'sequential_model_list': squential_model_list,\n",
        "    'functional_model': functional_model,\n",
        "    'class_model': class_model\n",
        "\n",
        "}\n",
        "\n",
        "for name, model in models.items():\n",
        "  print(f'compiling model: {name}')\n",
        "  model.compile(loss = 'categorical_crossentropy', \n",
        "                       optimizer = 'adam',    #-------> optimizer is using to update weights until the difference between prediction and real label become zero\n",
        "                       metrics = ['accuracy'])\n",
        "  print(f'training model: {name}')\n",
        "  model.fit(x_train, y_train, # -------------> the fit() returns history of the object contains loss or values of acc in list per-epoch\n",
        "            validation_data = (x_valid, y_valid),\n",
        "            epochs = 50,\n",
        "            batch_size = 256,\n",
        "            verbose = 0)\n",
        "  _,accuracy = model.evaluate(x_test, y_test, verbose = 0)  # _, means that it gives you two things but you don't need the first so we take the second\n",
        "  print(f'Testing model: {name}. \\nAccuracy: {accuracy}')\n",
        "  print('---')"
      ],
      "metadata": {
        "colab": {
          "base_uri": "https://localhost:8080/"
        },
        "id": "AAbwqkoBVnap",
        "outputId": "e241f32f-a2f6-4d64-9e6f-889f3cd91a71"
      },
      "execution_count": null,
      "outputs": [
        {
          "output_type": "stream",
          "name": "stdout",
          "text": [
            "compiling model: sequential_model\n",
            "training model: sequential_model\n",
            "Testing model: sequential_model. \n",
            "Accuracy: 0.9804999828338623\n",
            "---\n",
            "compiling model: sequential_model_list\n",
            "training model: sequential_model_list\n",
            "Testing model: sequential_model_list. \n",
            "Accuracy: 0.9810000061988831\n",
            "---\n",
            "compiling model: functional_model\n",
            "training model: functional_model\n",
            "Testing model: functional_model. \n",
            "Accuracy: 0.9807000160217285\n",
            "---\n",
            "compiling model: class_model\n",
            "training model: class_model\n",
            "Testing model: class_model. \n",
            "Accuracy: 0.9811999797821045\n",
            "---\n"
          ]
        }
      ]
    },
    {
      "cell_type": "code",
      "source": [],
      "metadata": {
        "id": "Ez1xW15xVtaw"
      },
      "execution_count": null,
      "outputs": []
    }
  ]
}