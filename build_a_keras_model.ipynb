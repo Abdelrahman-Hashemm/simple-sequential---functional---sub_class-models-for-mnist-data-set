{
  "nbformat": 4,
  "nbformat_minor": 0,
  "metadata": {
    "colab": {
      "provenance": [],
      "authorship_tag": "ABX9TyOmuzeiFOIsVucr7tfBAJ7q",
      "include_colab_link": true
    },
    "kernelspec": {
      "name": "python3",
      "display_name": "Python 3"
    },
    "language_info": {
      "name": "python"
    }
  },
  "cells": [
    {
      "cell_type": "markdown",
      "metadata": {
        "id": "view-in-github",
        "colab_type": "text"
      },
      "source": [
        "<a href=\"https://colab.research.google.com/github/Abdelrahman-Hashemm/simple-sequential---functional---sub_class-models-for-mnist-data-set/blob/main/build_a_keras_model.ipynb\" target=\"_parent\"><img src=\"https://colab.research.google.com/assets/colab-badge.svg\" alt=\"Open In Colab\"/></a>"
      ]
    },
    {
      "cell_type": "markdown",
      "source": [
        "# **Import liberaries**"
      ],
      "metadata": {
        "id": "pAK6MffVENZV"
      }
    },
    {
      "cell_type": "code",
      "execution_count": null,
      "metadata": {
        "colab": {
          "base_uri": "https://localhost:8080/",
          "height": 35
        },
        "id": "lqK4VgCJjlCp",
        "outputId": "ffc48fd9-b665-4995-89a5-0d62ae14a5d4"
      },
      "outputs": [
        {
          "output_type": "execute_result",
          "data": {
            "text/plain": [
              "\"\\nmodel = keras.Sequential()\\nmodel.add(layers.Dense(64, activation = 'relu'))\\nmodel.add(layers.Dense(10, activation = 'softmax'))\\n\""
            ],
            "application/vnd.google.colaboratory.intrinsic+json": {
              "type": "string"
            }
          },
          "metadata": {},
          "execution_count": 1
        }
      ],
      "source": [
        "# The sequential class\n",
        "from tensorflow import keras\n",
        "from tensorflow.keras import layers\n",
        "\n",
        "model = keras.Sequential([layers.Dense(64, activation = 'relu'),\n",
        "                          layers.Dense(10, activation = 'softmax')])\n",
        "#another way using add() function to incrementally build the model\n",
        "\n",
        "#model = keras.Sequential()\n",
        "#model.add(layers.Dense(64, activation = 'relu'))\n",
        "#model.add(layers.Dense(10, activation = 'softmax'))\n",
        "\n"
      ]
    },
    {
      "cell_type": "markdown",
      "source": [
        "# you can name the model  and layers as you like"
      ],
      "metadata": {
        "id": "uolAga6vHT0W"
      }
    },
    {
      "cell_type": "code",
      "source": [
        "model = keras.Sequential(name = \"my_keras_model\")\n",
        "model.add(layers.Dense(64, activation = 'relu', name = \"my_first_layer\"))\n",
        "model.add(layers.Dense(10, activation = 'softmax', name = \"my_second_layer\"))\n",
        "#we must call build() to give the input shpe to the model\n",
        "model.build((None, 3))\n",
        "model.summary()"
      ],
      "metadata": {
        "colab": {
          "base_uri": "https://localhost:8080/"
        },
        "id": "y46SfW6NFep2",
        "outputId": "d8017edb-9243-422f-a764-5797022183c7"
      },
      "execution_count": null,
      "outputs": [
        {
          "output_type": "stream",
          "name": "stdout",
          "text": [
            "Model: \"my_keras_model\"\n",
            "_________________________________________________________________\n",
            " Layer (type)                Output Shape              Param #   \n",
            "=================================================================\n",
            " my_first_layer (Dense)      (None, 64)                256       \n",
            "                                                                 \n",
            " my_second_layer (Dense)     (None, 10)                650       \n",
            "                                                                 \n",
            "=================================================================\n",
            "Total params: 906\n",
            "Trainable params: 906\n",
            "Non-trainable params: 0\n",
            "_________________________________________________________________\n"
          ]
        }
      ]
    },
    {
      "cell_type": "markdown",
      "source": [
        "**Specifying the input shape of your model in advance**"
      ],
      "metadata": {
        "id": "aVmYUZA5JdRR"
      }
    },
    {
      "cell_type": "code",
      "source": [
        "                                                                      #Use Input to declare the shape\n",
        "model = keras.Sequential()                                            #of the inputs. Note that the\n",
        "model.add(keras.Input(shape = (3,)))    #------------------------->   #shape argument must be the\n",
        "model.add(layers.Dense(64, activation = 'relu'))                      #shape of each sample, not\n",
        "                                                                      #the shape of one batch\n",
        "model.summary()"
      ],
      "metadata": {
        "colab": {
          "base_uri": "https://localhost:8080/"
        },
        "id": "alnCrm3VFnRD",
        "outputId": "f5cb97ad-7500-466a-9575-bf390b44a75c"
      },
      "execution_count": null,
      "outputs": [
        {
          "output_type": "stream",
          "name": "stdout",
          "text": [
            "Model: \"sequential_1\"\n",
            "_________________________________________________________________\n",
            " Layer (type)                Output Shape              Param #   \n",
            "=================================================================\n",
            " dense_2 (Dense)             (None, 64)                256       \n",
            "                                                                 \n",
            "=================================================================\n",
            "Total params: 256\n",
            "Trainable params: 256\n",
            "Non-trainable params: 0\n",
            "_________________________________________________________________\n"
          ]
        }
      ]
    },
    {
      "cell_type": "code",
      "source": [
        "model.add(layers.Dense(10, activation = 'softmax')) \n",
        "model.summary()"
      ],
      "metadata": {
        "colab": {
          "base_uri": "https://localhost:8080/"
        },
        "id": "cyNccotoKelM",
        "outputId": "4098d864-5174-41dd-915a-74f50303ca26"
      },
      "execution_count": null,
      "outputs": [
        {
          "output_type": "stream",
          "name": "stdout",
          "text": [
            "Model: \"sequential_1\"\n",
            "_________________________________________________________________\n",
            " Layer (type)                Output Shape              Param #   \n",
            "=================================================================\n",
            " dense_2 (Dense)             (None, 64)                256       \n",
            "                                                                 \n",
            " dense_3 (Dense)             (None, 10)                650       \n",
            "                                                                 \n",
            "=================================================================\n",
            "Total params: 906\n",
            "Trainable params: 906\n",
            "Non-trainable params: 0\n",
            "_________________________________________________________________\n"
          ]
        }
      ]
    },
    {
      "cell_type": "markdown",
      "source": [
        "# **Limitations of Sequential model**"
      ],
      "metadata": {
        "id": "jRYTB0F0NTNQ"
      }
    },
    {
      "cell_type": "code",
      "source": [
        "#The Sequential model is easy to use, but its applicability is extremely limited: it can\n",
        "#only express models with a single input and a single output, applying one layer after\n",
        "#the other in a sequential fashion\n",
        "#In practice, it’s pretty common to encounter models\n",
        "#with multiple inputs (say, an image and its metadata), multiple outputs (different\n",
        "#things you want to predict about the data), or a nonlinear topology.\n",
        "#In such cases, you’d build your model using the Functional API. This is what most\n",
        "#Keras models you’ll encounter in the wild use"
      ],
      "metadata": {
        "id": "5cYzo-pNKz1r"
      },
      "execution_count": null,
      "outputs": []
    },
    {
      "cell_type": "markdown",
      "source": [
        "# **Functional Model**"
      ],
      "metadata": {
        "id": "Ixqq1kOeNok0"
      }
    },
    {
      "cell_type": "code",
      "source": [
        "#in this model we pass each output from each layer to the next layer\n",
        "inputs = keras.Input(shape=(3,), name=\"my_input\")\n",
        "features = layers.Dense(64, activation=\"relu\")(inputs)\n",
        "outputs = layers.Dense(10, activation=\"softmax\")(features)\n",
        "model = keras.Model(inputs=inputs, outputs=outputs)"
      ],
      "metadata": {
        "id": "OSOss6PtNZl8"
      },
      "execution_count": null,
      "outputs": []
    },
    {
      "cell_type": "markdown",
      "source": [
        "**Let's go over step by step**"
      ],
      "metadata": {
        "id": "vPYaScm8PTM8"
      }
    },
    {
      "cell_type": "code",
      "source": [
        "#start by declaring the input\n",
        "inputs = keras.Input(shape = (3,), name = \"my_input\")\n",
        "#input holds information about the shape and dtype of the data that the model will process\n",
        "inputs.shape\n",
        "\n",
        "#The model will process batches where each sample\n",
        "#has shape (3,). The number of samples per batch is\n",
        "#variable (indicated by the None batch size)\n"
      ],
      "metadata": {
        "colab": {
          "base_uri": "https://localhost:8080/"
        },
        "id": "fT5eEEZ8PSaz",
        "outputId": "0ec44a5a-2b2b-44b9-baa5-984be0830d23"
      },
      "execution_count": null,
      "outputs": [
        {
          "output_type": "execute_result",
          "data": {
            "text/plain": [
              "TensorShape([None, 3])"
            ]
          },
          "metadata": {},
          "execution_count": 19
        }
      ]
    },
    {
      "cell_type": "code",
      "source": [
        "inputs.dtype\n",
        "#These batches will have dtype float32."
      ],
      "metadata": {
        "colab": {
          "base_uri": "https://localhost:8080/"
        },
        "id": "PHFHQ7AiP9gV",
        "outputId": "2dc2ccb1-da55-4906-9da2-ec29cc53ce7f"
      },
      "execution_count": null,
      "outputs": [
        {
          "output_type": "execute_result",
          "data": {
            "text/plain": [
              "tf.float32"
            ]
          },
          "metadata": {},
          "execution_count": 17
        }
      ]
    },
    {
      "cell_type": "code",
      "source": [
        "#Next, we created a layer and called it on the input\n",
        "features = layers.Dense(64, activation = 'relu')(inputs)\n",
        "\n",
        "features.shape"
      ],
      "metadata": {
        "colab": {
          "base_uri": "https://localhost:8080/"
        },
        "id": "SjLy7hcaQD3M",
        "outputId": "72e8fe88-d7a7-47a8-f43b-f588b38709a7"
      },
      "execution_count": null,
      "outputs": [
        {
          "output_type": "execute_result",
          "data": {
            "text/plain": [
              "TensorShape([None, 64])"
            ]
          },
          "metadata": {},
          "execution_count": 20
        }
      ]
    },
    {
      "cell_type": "code",
      "source": [
        "#After obtaining the final outputs, we instantiated the model by specifying its inputs\n",
        "#and outputs in the Model constructor\n",
        "\n",
        "outputs = layers.Dense(10, activation = 'softmax')(features)\n",
        "model = keras.Model(inputs = inputs, outputs = outputs)"
      ],
      "metadata": {
        "id": "1xs3S7yIQ-Rc"
      },
      "execution_count": null,
      "outputs": []
    },
    {
      "cell_type": "code",
      "source": [
        "model.summary()"
      ],
      "metadata": {
        "colab": {
          "base_uri": "https://localhost:8080/"
        },
        "id": "EetfR9-eRPTb",
        "outputId": "d0b25cf9-29c1-4111-c570-6ef90e3c9df7"
      },
      "execution_count": null,
      "outputs": [
        {
          "output_type": "stream",
          "name": "stdout",
          "text": [
            "Model: \"model_1\"\n",
            "_________________________________________________________________\n",
            " Layer (type)                Output Shape              Param #   \n",
            "=================================================================\n",
            " my_input (InputLayer)       [(None, 3)]               0         \n",
            "                                                                 \n",
            " dense_6 (Dense)             (None, 64)                256       \n",
            "                                                                 \n",
            " dense_8 (Dense)             (None, 10)                650       \n",
            "                                                                 \n",
            "=================================================================\n",
            "Total params: 906\n",
            "Trainable params: 906\n",
            "Non-trainable params: 0\n",
            "_________________________________________________________________\n"
          ]
        }
      ]
    },
    {
      "cell_type": "code",
      "source": [],
      "metadata": {
        "id": "3nuy7ONEReFr"
      },
      "execution_count": null,
      "outputs": []
    }
  ]
}